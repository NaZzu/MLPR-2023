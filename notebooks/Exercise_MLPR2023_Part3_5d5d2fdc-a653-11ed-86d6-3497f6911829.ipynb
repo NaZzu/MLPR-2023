{
 "cells": [
  {
   "cell_type": "markdown",
   "id": "48574939",
   "metadata": {},
   "source": [
    "This is the template for the image recognition exercise. <Br>\n",
    "Some **general instructions**, read these carefully:\n",
    " - The final assignment is returned as a clear and understandable *report*\n",
    "    - define shortly the concepts and explain the phases you use\n",
    "    - use the Markdown feature of the notebook for larger explanations\n",
    " - return your output as a *working* Jupyter notebook\n",
    " - name your file as Exercise_MLPR2023_Partx_uuid.jpynb\n",
    "    - use the uuid code determined below\n",
    "    - use this same code for each part of the assignment\n",
    " - write easily readable code with comments     \n",
    "     - if you exploit code from web, provide a reference\n",
    " - it is ok to discuss with a friend about the assignment. But it is not ok to copy someone's work. Everyone should submit their own implementation\n",
    "     - in case of identical submissions, both submissions are failed "
   ]
  },
  {
   "cell_type": "markdown",
   "id": "0bfbc2b3",
   "metadata": {},
   "source": [
    "**Deadlines:**\n",
    "- Part 1: Mon 6.2 at 23:59**\n",
    "- Part 2: Mon 20.2 at 23:59**\n",
    "- Part 3: Mon 6.3 at 23:59**\n",
    "\n",
    "**No extensions for the deadlines** <br>\n",
    "- after each deadline, example results are given, and it is not possible to submit anymore\n",
    "\n",
    "**If you encounter problems, Google first and if you can’t find an answer, ask for help**\n",
    "- Moodle area for questions\n",
    "- pekavir@utu.fi\n",
    "- teacher available for questions on Mondays 30.1, 13.2 (after lecture) and Thursday 2.3 (at lecture)"
   ]
  },
  {
   "cell_type": "markdown",
   "id": "ea03f4ab",
   "metadata": {},
   "source": [
    "**Grading**\n",
    "\n",
    "The exercise covers a part of the grading in this course. The course exam has 5 questions, 6 points of each. Exercise gives 6 points, i.e. the total score is 36 points.\n",
    "\n",
    "From the template below, you can see how many exercise points can be acquired from each task. Exam points are given according to the table below: <br>\n",
    "<br>\n",
    "7 exercise points: 1 exam point <br>\n",
    "8 exercise points: 2 exam points <br>\n",
    "9 exercise points: 3 exam points <br>\n",
    "10 exercise points: 4 exam points <br>\n",
    "11 exercise points: 5 exam points <br>\n",
    "12 exercise points: 6 exam points <br>\n",
    "<br>\n",
    "To pass the exercise, you need at least 7 exercise points, and at least 1 exercise point from each Part.\n",
    "    \n",
    "Each student will grade one submission from a peer and their own submission. After each Part deadline, example results are given. Study them carefully and perform the grading according to the given instructions. Mean value from the peer grading and self-grading is used for the final points. "
   ]
  },
  {
   "cell_type": "code",
   "execution_count": 1,
   "id": "20913a7e",
   "metadata": {},
   "outputs": [
    {
     "name": "stdout",
     "output_type": "stream",
     "text": [
      "The id code is: f62e65c2-b927-11ed-a7f1-3497f6911829\n"
     ]
    }
   ],
   "source": [
    "import uuid\n",
    "# Run this cell only once and save the code. Use the same id code for each Part.\n",
    "# Printing random id using uuid1()\n",
    "print (\"The id code is: \",end=\"\")\n",
    "print (uuid.uuid1())"
   ]
  },
  {
   "cell_type": "markdown",
   "id": "3ce21d52",
   "metadata": {},
   "source": [
    "# Introduction (1 p)"
   ]
  },
  {
   "cell_type": "markdown",
   "id": "35ca8979",
   "metadata": {},
   "source": [
    "Write an introductory chapter for your report\n",
    "<br>\n",
    "- Explain what is the purpose of this task?\n",
    "- Describe, what kind of data were used? Where did it originate? Give correct reference.\n",
    "- Which methods did you use?\n",
    "- Describe shortly the results"
   ]
  },
  {
   "cell_type": "markdown",
   "id": "9d49e7d2",
   "metadata": {},
   "source": [
    "# Part 2"
   ]
  },
  {
   "cell_type": "markdown",
   "id": "cbec0706",
   "metadata": {},
   "source": [
    "Data exploration and model selection"
   ]
  },
  {
   "cell_type": "markdown",
   "id": "9d85ec88",
   "metadata": {},
   "source": [
    "# Part 3"
   ]
  },
  {
   "cell_type": "markdown",
   "id": "d973b1d7",
   "metadata": {},
   "source": [
    "## Performance estimation (2 p)"
   ]
  },
  {
   "cell_type": "markdown",
   "id": "3929defa",
   "metadata": {},
   "source": [
    "Use the previously gathered data (again, use the standardized features). <br>\n",
    "Estimate the performance of each model using nested cross validation. Use 10-fold cross validation for outer and <br>\n",
    "5-fold repeated cross validation with 3 repetitions for inner loop.  <br> \n",
    "Select the best model in the inner loop using the hyperparameter combinations and ranges defined in the Part 2. <br>\n",
    "For each model, calculate the accuracy and the confusion matrix. <br> \n",
    "Which hyperparameter/hyperparameter combination is most often chosen as the best one for each classifier? "
   ]
  },
  {
   "cell_type": "markdown",
   "id": "85f896a1",
   "metadata": {},
   "source": [
    "## Discussion (2 p)"
   ]
  },
  {
   "cell_type": "markdown",
   "id": "18c6e2e9",
   "metadata": {},
   "source": [
    "Discuss you results\n",
    "\n",
    "- Which model performs the best? Why?\n",
    "- Ponder the limitations and generalization of the models. How well will the classifiers perform for data outside this data set?\n",
    "- Compare your results with the original article. Are they comparable?\n",
    "- Ponder applications for these type of models (classifying rice or other plant species), who could benefit from them? Ponder also what would be interesting to study more on this area?\n",
    "- What did you learn? What was difficult? Could you improve your own working process in some way?"
   ]
  },
  {
   "cell_type": "code",
   "execution_count": 2,
   "id": "5c839eed",
   "metadata": {},
   "outputs": [],
   "source": [
    "import os\n",
    "import numpy as np\n",
    "import pandas as pd\n",
    "import seaborn as sns\n",
    "import random as rng\n",
    "import cv2\n",
    "import matplotlib.pyplot as plt\n",
    "import warnings\n",
    "\n",
    "\n",
    "from sklearn.model_selection import RepeatedKFold\n",
    "from sklearn.neighbors import KNeighborsClassifier\n",
    "from sklearn.ensemble import RandomForestClassifier\n",
    "from sklearn.preprocessing import StandardScaler, LabelEncoder\n",
    "from sklearn.model_selection import train_test_split, cross_val_score, LeaveOneOut, GridSearchCV, KFold\n",
    "from sklearn.decomposition import PCA\n",
    "from sklearn.neural_network import MLPClassifier\n",
    "\n",
    "from itertools import product\n"
   ]
  },
  {
   "cell_type": "code",
   "execution_count": 3,
   "id": "330cd1b9",
   "metadata": {},
   "outputs": [],
   "source": [
    "parquet_path = '..\\\\training_data\\\\Rice_Sample_data.parquet'\n",
    "\n",
    "df_parquet = pd.read_parquet(parquet_path)"
   ]
  },
  {
   "cell_type": "code",
   "execution_count": 4,
   "id": "cf40e78d",
   "metadata": {},
   "outputs": [],
   "source": [
    "# Own dataframe for numericals\n",
    "df_numerical = df_parquet.iloc[:, 3:]\n",
    "\n",
    "# Another dataframe with species column for later use\n",
    "df_species = df_numerical.copy()\n",
    "df_species['Species'] = df_parquet['Species']"
   ]
  },
  {
   "cell_type": "code",
   "execution_count": 12,
   "id": "e8da00c2",
   "metadata": {},
   "outputs": [],
   "source": [
    "y = df_species['Species'].values\n",
    "X = df_species.iloc[:,:21].values\n",
    "\n",
    "StScaler = StandardScaler()\n",
    "X_standardized = StScaler.fit_transform(X)"
   ]
  },
  {
   "cell_type": "code",
   "execution_count": 13,
   "id": "08c704f7",
   "metadata": {},
   "outputs": [],
   "source": [
    "# Splitting data\n",
    "X_train, X_test, y_train, y_test = train_test_split(X_standardized, y, test_size=0.2, random_state=42)\n",
    "\n",
    "# Initializing Classifiers\n",
    "\n",
    "# model1 = RandomForestClassifier(max_depth=10, max_features=10)\n",
    "# model2 = MLPClassifier(solver='adam', activation='logistic', hidden_layer_sizes=7)\n",
    "# model3 = KNeighborsClassifier(n_neighbors=3)\n",
    "model1 = RandomForestClassifier()\n",
    "model2 = MLPClassifier()\n",
    "model3 = KNeighborsClassifier()\n",
    "\n",
    "# Setting parameter grids\n",
    "\n",
    "hp_grid1 = [{'max_depth': list(range(1,12)),\n",
    "            'max_features': list(range(1,12))}]\n",
    "hp_grid2 = [{'solver': ['adam', 'sgd'], \n",
    "            'activation': ['relu', 'logistic'],\n",
    "            'hidden_layer_sizes': list(range(1,10))}]\n",
    "hp_grid3 = [{'n_neighbors': list(range(1,10))}]\n"
   ]
  },
  {
   "cell_type": "markdown",
   "id": "b1c1b158",
   "metadata": {},
   "source": [
    "Defining inner loop"
   ]
  },
  {
   "cell_type": "code",
   "execution_count": 14,
   "id": "2cd5e532",
   "metadata": {},
   "outputs": [],
   "source": [
    "\n",
    "# Setting repeated kfold for inner loop\n",
    "cv_inner = RepeatedKFold(n_splits=5, n_repeats=3, random_state=42)\n",
    "\n",
    "gridcvs = {}\n",
    "for hpgrid, model, name in zip ((hp_grid1, hp_grid2, hp_grid3),\n",
    "                        (model1, model2, model3),\n",
    "                        ('RForest', 'MLP', 'KNN')):\n",
    "    gcv = GridSearchCV(estimator=model,\n",
    "                        param_grid=hpgrid,\n",
    "                        scoring='accuracy',\n",
    "                        cv=cv_inner,\n",
    "                        verbose=0,\n",
    "                        refit=True)\n",
    "\n",
    "    gridcvs[name] = gcv\n",
    "\n",
    "\n"
   ]
  },
  {
   "cell_type": "markdown",
   "id": "273c3e92",
   "metadata": {},
   "source": [
    "Defining outer loop"
   ]
  },
  {
   "cell_type": "code",
   "execution_count": 15,
   "id": "dde81eec",
   "metadata": {},
   "outputs": [],
   "source": [
    "# Filtering warnings because it filled the screen\n",
    "warnings.filterwarnings(\"ignore\")"
   ]
  },
  {
   "cell_type": "code",
   "execution_count": 16,
   "id": "4a3b27cc",
   "metadata": {},
   "outputs": [
    {
     "name": "stdout",
     "output_type": "stream",
     "text": [
      "Algorithm: KNN\n",
      "inner loop:\n",
      "\n",
      " Best accuracy (avg. of inner test folds) 98.92%\n",
      "Best parameters {'n_neighbors': 1}\n",
      " Accuracy (on outer test folds) 100.00%\n",
      "\n",
      " Best accuracy (avg. of inner test folds) 98.46%\n",
      "Best parameters {'n_neighbors': 3}\n",
      " Accuracy (on outer test folds) 100.00%\n",
      "\n",
      " Best accuracy (avg. of inner test folds) 99.38%\n",
      "Best parameters {'n_neighbors': 1}\n",
      " Accuracy (on outer test folds) 95.83%\n",
      "\n",
      " Best accuracy (avg. of inner test folds) 99.07%\n",
      "Best parameters {'n_neighbors': 1}\n",
      " Accuracy (on outer test folds) 100.00%\n",
      "\n",
      " Best accuracy (avg. of inner test folds) 99.07%\n",
      "Best parameters {'n_neighbors': 1}\n",
      " Accuracy (on outer test folds) 100.00%\n",
      "\n",
      " Best accuracy (avg. of inner test folds) 98.45%\n",
      "Best parameters {'n_neighbors': 1}\n",
      " Accuracy (on outer test folds) 100.00%\n",
      "\n",
      " Best accuracy (avg. of inner test folds) 98.92%\n",
      "Best parameters {'n_neighbors': 1}\n",
      " Accuracy (on outer test folds) 100.00%\n",
      "\n",
      " Best accuracy (avg. of inner test folds) 98.92%\n",
      "Best parameters {'n_neighbors': 1}\n",
      " Accuracy (on outer test folds) 100.00%\n",
      "\n",
      " Best accuracy (avg. of inner test folds) 99.22%\n",
      "Best parameters {'n_neighbors': 1}\n",
      " Accuracy (on outer test folds) 100.00%\n",
      "\n",
      " Best accuracy (avg. of inner test folds) 99.53%\n",
      "Best parameters {'n_neighbors': 1}\n",
      " Accuracy (on outer test folds) 95.83%\n",
      "\n",
      " Outer loop:\n",
      "  Accuracy 99.17% +/-  2\n",
      "Algorithm: MLP\n",
      "inner loop:\n",
      "\n",
      " Best accuracy (avg. of inner test folds) 94.60%\n",
      "Best parameters {'activation': 'relu', 'hidden_layer_sizes': 9, 'solver': 'adam'}\n",
      " Accuracy (on outer test folds) 100.00%\n",
      "\n",
      " Best accuracy (avg. of inner test folds) 93.37%\n",
      "Best parameters {'activation': 'relu', 'hidden_layer_sizes': 9, 'solver': 'sgd'}\n",
      " Accuracy (on outer test folds) 100.00%\n",
      "\n",
      " Best accuracy (avg. of inner test folds) 95.22%\n",
      "Best parameters {'activation': 'relu', 'hidden_layer_sizes': 8, 'solver': 'adam'}\n",
      " Accuracy (on outer test folds) 87.50%\n",
      "\n",
      " Best accuracy (avg. of inner test folds) 94.59%\n",
      "Best parameters {'activation': 'relu', 'hidden_layer_sizes': 8, 'solver': 'adam'}\n",
      " Accuracy (on outer test folds) 100.00%\n",
      "\n",
      " Best accuracy (avg. of inner test folds) 94.44%\n",
      "Best parameters {'activation': 'relu', 'hidden_layer_sizes': 9, 'solver': 'adam'}\n",
      " Accuracy (on outer test folds) 91.67%\n",
      "\n",
      " Best accuracy (avg. of inner test folds) 94.75%\n",
      "Best parameters {'activation': 'relu', 'hidden_layer_sizes': 9, 'solver': 'adam'}\n",
      " Accuracy (on outer test folds) 95.83%\n"
     ]
    }
   ],
   "source": [
    "# Setting Kfold for outer loop cv procedure\n",
    "\n",
    "\n",
    "for name, outer_cv in sorted(gridcvs.items()):\n",
    "    print('Algorithm:', name)\n",
    "    print('inner loop:')\n",
    "\n",
    "\n",
    "    outer_scores = []\n",
    "    cv_outer = KFold(n_splits=10, random_state=42, shuffle=True)\n",
    "\n",
    "    for train_set, valid_set in cv_outer.split(X_train, y_train):\n",
    "\n",
    "        gridcvs[name].fit(X_train[train_set], y_train[train_set]) # Inner loop hyperparameter tuning\n",
    "        print('\\n Best accuracy (avg. of inner test folds) %.2f%%' % (gridcvs[name].best_score_ *100))\n",
    "        print('Best parameters', gridcvs[name].best_params_)\n",
    "\n",
    "        outer_scores.append(gridcvs[name].best_estimator_.score(X_train[valid_set], y_train[valid_set])) # test fold (valid_set)\n",
    "        print(' Accuracy (on outer test folds) %.2f%%' % (outer_scores[-1]*100))\n",
    "\n",
    "    print('\\n Outer loop:')\n",
    "    print('  Accuracy %.2f%% +/- %2.f' % (np.mean(outer_scores) * 100, np.std(outer_scores) * 100))\n",
    "    \n"
   ]
  },
  {
   "cell_type": "markdown",
   "id": "a3ddf69c",
   "metadata": {},
   "source": [
    "Use the previously gathered data (again, use the standardized features). <br>\n",
    "Estimate the performance of each model using nested cross validation. Use 10-fold cross validation for outer and <br>\n",
    "5-fold repeated cross validation with 3 repetitions for inner loop.  <br> \n",
    "Select the best model in the inner loop using the hyperparameter combinations and ranges defined in the Part 2. <br>\n",
    "For each model, calculate the accuracy and the confusion matrix. <br> \n",
    "Which hyperparameter/hyperparameter combination is most often chosen as the best one for each classifier? "
   ]
  },
  {
   "cell_type": "markdown",
   "id": "80718141",
   "metadata": {},
   "source": [
    "Discuss you results\n",
    "\n",
    "- Which model performs the best? Why?\n",
    "It seems that Random Forest Classifier works the best.\n",
    "\n",
    "\n",
    "\n",
    "- Ponder the limitations and generalization of the models. How well will the classifiers perform for data outside this data set?\n",
    "\n",
    "\n",
    "- Compare your results with the original article. Are they comparable?\n",
    "\n",
    "\n",
    "- Ponder applications for these type of models (classifying rice or other plant species), who could benefit from them? Ponder also what would be interesting to study more on this area?\n",
    "\n",
    "\n",
    "- What did you learn? What was difficult? Could you improve your own working process in some way?\n",
    "\n"
   ]
  },
  {
   "cell_type": "markdown",
   "id": "46a33ca8",
   "metadata": {},
   "source": []
  },
  {
   "cell_type": "code",
   "execution_count": null,
   "id": "3a7e64ac",
   "metadata": {},
   "outputs": [],
   "source": []
  },
  {
   "cell_type": "code",
   "execution_count": null,
   "id": "c6336bf4",
   "metadata": {},
   "outputs": [],
   "source": []
  },
  {
   "cell_type": "code",
   "execution_count": null,
   "id": "95ffb3e0",
   "metadata": {},
   "outputs": [],
   "source": []
  }
 ],
 "metadata": {
  "kernelspec": {
   "display_name": "Python 3.10.6 64-bit",
   "language": "python",
   "name": "python3"
  },
  "language_info": {
   "codemirror_mode": {
    "name": "ipython",
    "version": 3
   },
   "file_extension": ".py",
   "mimetype": "text/x-python",
   "name": "python",
   "nbconvert_exporter": "python",
   "pygments_lexer": "ipython3",
   "version": "3.10.6"
  },
  "toc": {
   "base_numbering": 1,
   "nav_menu": {},
   "number_sections": true,
   "sideBar": true,
   "skip_h1_title": false,
   "title_cell": "Table of Contents",
   "title_sidebar": "Contents",
   "toc_cell": false,
   "toc_position": {
    "height": "calc(100% - 180px)",
    "left": "10px",
    "top": "150px",
    "width": "232px"
   },
   "toc_section_display": true,
   "toc_window_display": true
  },
  "vscode": {
   "interpreter": {
    "hash": "7a00de2d03a2cdd800050a5fd9903e27ef0ab168083508fb826c5866b9462f56"
   }
  }
 },
 "nbformat": 4,
 "nbformat_minor": 5
}
